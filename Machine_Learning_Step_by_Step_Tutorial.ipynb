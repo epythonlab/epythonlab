{
  "nbformat": 4,
  "nbformat_minor": 0,
  "metadata": {
    "colab": {
      "provenance": [],
      "authorship_tag": "ABX9TyMk18SL5offWDlUP3d1C1Ud",
      "include_colab_link": true
    },
    "kernelspec": {
      "name": "python3",
      "display_name": "Python 3"
    },
    "language_info": {
      "name": "python"
    }
  },
  "cells": [
    {
      "cell_type": "markdown",
      "metadata": {
        "id": "view-in-github",
        "colab_type": "text"
      },
      "source": [
        "<a href=\"https://colab.research.google.com/github/epythonlab/epythonlab/blob/master/Machine_Learning_Step_by_Step_Tutorial.ipynb\" target=\"_parent\"><img src=\"https://colab.research.google.com/assets/colab-badge.svg\" alt=\"Open In Colab\"/></a>"
      ]
    },
    {
      "cell_type": "markdown",
      "source": [
        "# Linear Regression with Examples\n"
      ],
      "metadata": {
        "id": "-x5bDpFyMx6L"
      }
    },
    {
      "cell_type": "markdown",
      "source": [
        "## What is Linear Regression?"
      ],
      "metadata": {
        "id": "tdpxeoUMNnlk"
      }
    },
    {
      "cell_type": "markdown",
      "source": [
        "**Linear regression** is a commonly used statistical method for modeling the relationship between a dependent variable and one or more independent variables by fitting a linear equation to the observed data. The goal is to find the best-fitting line (or hyperplane in the case of multiple independent variables) that minimizes the sum of squared differences between the predicted values and the actual values."
      ],
      "metadata": {
        "id": "bGWwjj7RM4Ks"
      }
    },
    {
      "cell_type": "markdown",
      "source": [
        "In this tutorial, I will show you a step-by-step example of linear regression with a simple single-variable (simple linear regression) example:"
      ],
      "metadata": {
        "id": "6egmSKleNOBj"
      }
    },
    {
      "cell_type": "markdown",
      "source": [
        "## Define the Problem"
      ],
      "metadata": {
        "id": "jdmCKXSlNaFF"
      }
    },
    {
      "cell_type": "markdown",
      "source": [
        "**Problem Statement:** Suppose you want to predict a student's score on a test (dependent variable) based on the number of hours they studied (independent variable). You have collected data on several students, including their study hours and test scores, and you want to build a linear regression model to make predictions."
      ],
      "metadata": {
        "id": "u3ah7TVFNjWs"
      }
    },
    {
      "cell_type": "markdown",
      "source": [
        "## Step 1: Data Collection\n",
        "\n"
      ],
      "metadata": {
        "id": "WYyHq_00OC_k"
      }
    },
    {
      "cell_type": "markdown",
      "source": [
        "Collect data on study hours (independent variable) and test scores (dependent variable) for a group of students. Here's a simplified dataset:"
      ],
      "metadata": {
        "id": "naPaBvzROM42"
      }
    },
    {
      "cell_type": "markdown",
      "source": [
        "<table>\n",
        "\n",
        "<th>Study Hours (X)</th>\n",
        "<th>Test Scores (Y)</th>\n",
        "<tr><td>2</td><td>50</td></tr>\n",
        "<tr><td>3</td><td>60</td></tr>\n",
        "<tr><td>4</td><td>70</td></tr>\n",
        "<tr><td>5</td><td>75</td></tr>\n",
        "<tr><td>6</td><td>80</td></tr>\n",
        "\n",
        "\n",
        "</table>"
      ],
      "metadata": {
        "id": "aKa96uKnOdnk"
      }
    },
    {
      "cell_type": "markdown",
      "source": [
        "## Step 2: Data Visualization\n"
      ],
      "metadata": {
        "id": "DZAZh53wPpns"
      }
    },
    {
      "cell_type": "markdown",
      "source": [
        "Visualize the data using a scatter plot to understand the relationship between study hours and test scores. This will help you determine if a linear relationship exists."
      ],
      "metadata": {
        "id": "yODeG35zPtbj"
      }
    },
    {
      "cell_type": "code",
      "execution_count": null,
      "metadata": {
        "id": "JIqK1zV0MqDG"
      },
      "outputs": [],
      "source": [
        "import matplotlib.pyplot as plt\n",
        "\n",
        "# Data\n",
        "study_hours = [2, 3, 4, 5, 6]\n",
        "test_scores = [50, 60, 70, 75, 80]\n",
        "\n",
        "# Scatter plot\n",
        "plt.scatter(study_hours, test_scores)\n",
        "plt.title('Study Hours vs. Test Scores')\n",
        "plt.xlabel('Study Hours')\n",
        "plt.ylabel('Test Scores')\n",
        "plt.show()\n"
      ]
    },
    {
      "cell_type": "markdown",
      "source": [
        "From the scatter plot, it appears that there is a linear relationship between study hours and test scores. As study hours increase, test scores generally tend to increase as well."
      ],
      "metadata": {
        "id": "dOFcSKAWP198"
      }
    },
    {
      "cell_type": "markdown",
      "source": [
        "## Step 3: Model Building\n"
      ],
      "metadata": {
        "id": "5i8-fc5IP9Yk"
      }
    },
    {
      "cell_type": "markdown",
      "source": [
        "Build a linear regression model to fit the data. The equation for a simple linear regression model is:\n",
        "\n",
        "`Y = b0 + b1 * X`\n",
        "\n",
        "\n",
        "Where:\n",
        "`Y` is the predicted test score.\n",
        "`X` is the study hours.\n",
        "`b0` is the intercept (constant).\n",
        "\n",
        "`b1` is the slope (coefficient) that represents the change in test score for each additional study hour.\n",
        "You can use various methods to calculate\n",
        "`b0` and `b1`, such as the least squares method. In Python, you can use libraries like `NumPy` or `scikit-learn` to perform linear regression. Here's an example using scikit-learn:"
      ],
      "metadata": {
        "id": "Am_An13qQCif"
      }
    },
    {
      "cell_type": "code",
      "source": [
        "from sklearn.linear_model import LinearRegression\n",
        "\n",
        "# Reshape the data\n",
        "study_hours = np.array(study_hours).reshape(-1, 1)\n",
        "test_scores = np.array(test_scores)\n",
        "\n",
        "# Create a linear regression model\n",
        "model = LinearRegression()\n",
        "\n",
        "# Fit the model to the data\n",
        "model.fit(study_hours, test_scores)\n",
        "\n",
        "# Get the intercept and slope\n",
        "b0 = model.intercept_\n",
        "b1 = model.coef_[0]\n",
        "\n",
        "print(f\"Intercept (b0): {b0}\")\n",
        "print(f\"Slope (b1): {b1}\")\n"
      ],
      "metadata": {
        "id": "l9pfu4YKQpTX"
      },
      "execution_count": null,
      "outputs": []
    },
    {
      "cell_type": "markdown",
      "source": [
        "## Step 4: Make Predictions\n",
        "Once you have the model coefficients `(b0 and b1)`, you can make predictions for test scores based on new study hours."
      ],
      "metadata": {
        "id": "mrF3c8gRQxC8"
      }
    },
    {
      "cell_type": "code",
      "source": [
        "# Predict test scores for new study hours\n",
        "new_study_hours = [7, 8, 9]\n",
        "predicted_scores = model.predict(np.array(new_study_hours).reshape(-1, 1))\n",
        "\n",
        "for i, hours in enumerate(new_study_hours):\n",
        "    print(f\"Predicted score for {hours} hours of study: {predicted_scores[i]}\")\n"
      ],
      "metadata": {
        "id": "aB1F_b45RJpS"
      },
      "execution_count": null,
      "outputs": []
    },
    {
      "cell_type": "markdown",
      "source": [
        "## Step 5: Evaluate the Model\n"
      ],
      "metadata": {
        "id": "kmNetAQkRPpy"
      }
    },
    {
      "cell_type": "markdown",
      "source": [
        "You should also evaluate the model's performance using appropriate metrics such as mean squared error (MSE), R-squared, or others to assess how well it fits the data and makes predictions."
      ],
      "metadata": {
        "id": "sW2HarwiRSsq"
      }
    },
    {
      "cell_type": "code",
      "source": [
        "# Calculate the Mean Squared Error (MSE)\n",
        "mse = mean_squared_error(test_scores, predicted_scores)\n",
        "print(f\"Mean Squared Error (MSE): {mse}\")\n",
        "\n",
        "# Calculate the R-squared (R^2) score\n",
        "r2 = r2_score(test_scores, predicted_scores)\n",
        "print(f\"R-squared (R^2) score: {r2}\")\n",
        "\n",
        "\n",
        "\n"
      ],
      "metadata": {
        "id": "tmOo26J_Rg0b"
      },
      "execution_count": null,
      "outputs": []
    },
    {
      "cell_type": "markdown",
      "source": [
        "- **mean_squared_error** calculates the mean squared error between the actual test scores and the predicted scores. Lower MSE values indicate better model performance.\n",
        "\n",
        "- **r2_score** calculates the R-squared (R^2) score, which measures the proportion of the variance in the dependent variable that is predictable from the independent variable(s). R^2 values range from 0 to 1, with higher values indicating a better fit. A value of 1 means a perfect fit, and a value of 0 means the model doesn't explain any variance in the data.\n",
        "\n",
        "By calculating and examining these metrics, you can assess how well your linear regression model fits the data and makes predictions. Remember that the choice of evaluation metrics may vary depending on the specific problem you are working on."
      ],
      "metadata": {
        "id": "Zkt81VVaSAEK"
      }
    },
    {
      "cell_type": "markdown",
      "source": [
        "# Conclusion"
      ],
      "metadata": {
        "id": "bdbIGnO1RfyW"
      }
    },
    {
      "cell_type": "markdown",
      "source": [
        "This example demonstrates the basic steps of simple linear regression. In practice, you may encounter more complex regression scenarios with multiple independent variables (multiple linear regression) or non-linear relationships (polynomial regression), but the fundamental principles remain similar."
      ],
      "metadata": {
        "id": "kF7j9d7HRv7C"
      }
    }
  ]
}